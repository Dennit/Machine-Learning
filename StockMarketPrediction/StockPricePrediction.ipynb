{
 "cells": [
  {
   "cell_type": "code",
   "execution_count": 1,
   "metadata": {},
   "outputs": [],
   "source": [
    "import pandas as pd\n",
    "from datetime import date\n",
    "import matplotlib.pyplot as plt\n",
    "from alpha_vantage.timeseries import TimeSeries\n",
    "from sklearn.linear_model import LinearRegression"
   ]
  },
  {
   "cell_type": "code",
   "execution_count": 3,
   "metadata": {},
   "outputs": [],
   "source": [
    "# initialize time-series object \n",
    "ts = TimeSeries( key = 'O3L2CO70NF49O9YI', output_format = 'pandas')\n",
    "\n",
    "# 1min, 5min, 15min, 30min, 60min\n",
    "spy_data, spy_meta_data = ts.get_intraday( symbol = 'SPY', interval = '1min', outputsize = 'compact')"
   ]
  },
  {
   "cell_type": "code",
   "execution_count": 4,
   "metadata": {},
   "outputs": [
    {
     "name": "stdout",
     "output_type": "stream",
     "text": [
      "                     1. open  2. high    3. low  4. close  5. volume\n",
      "date                                                                \n",
      "2019-09-24 14:21:00  296.760   296.81  296.5700   296.610   234735.0\n",
      "2019-09-24 14:22:00  296.620   296.81  296.5300   296.743   220328.0\n",
      "2019-09-24 14:23:00  296.745   296.80  296.5700   296.600   251746.0\n",
      "2019-09-24 14:24:00  296.600   296.72  296.5799   296.600   245595.0\n",
      "2019-09-24 14:25:00  296.600   296.62  296.4000   296.420   214772.0\n"
     ]
    }
   ],
   "source": [
    "print( spy_data.head())"
   ]
  },
  {
   "cell_type": "code",
   "execution_count": 6,
   "metadata": {},
   "outputs": [],
   "source": [
    "spy_data.rename(columns={\"2. high\": \"high\", \"3. low\": \"low\", \"1. open\": \"open\"})\n",
    "opendata = spy_data['1. open']\n",
    "high = spy_data['2. high']\n",
    "low = spy_data['3. low']"
   ]
  },
  {
   "cell_type": "code",
   "execution_count": 7,
   "metadata": {},
   "outputs": [
    {
     "data": {
      "text/plain": [
       "<matplotlib.axes._subplots.AxesSubplot at 0x1e78f7a35f8>"
      ]
     },
     "execution_count": 7,
     "metadata": {},
     "output_type": "execute_result"
    },
    {
     "data": {
      "image/png": "[encoded data removed]",
      "text/plain": [
       "<Figure size 432x288 with 1 Axes>"
      ]
     },
     "metadata": {
      "needs_background": "light"
     },
     "output_type": "display_data"
    }
   ],
   "source": [
    "opendata.plot()"
   ]
  },
  {
   "cell_type": "code",
   "execution_count": 19,
   "metadata": {},
   "outputs": [
    {
     "data": {
      "text/plain": [
       "date\n",
       "2019-09-24 14:21:00    296.760\n",
       "2019-09-24 14:22:00    296.620\n",
       "2019-09-24 14:23:00    296.745\n",
       "2019-09-24 14:24:00    296.600\n",
       "2019-09-24 14:25:00    296.600\n",
       "Name: 1. open, dtype: float64"
      ]
     },
     "execution_count": 19,
     "metadata": {},
     "output_type": "execute_result"
    }
   ],
   "source": [
    "opendata.head()"
   ]
  },
  {
   "cell_type": "code",
   "execution_count": 18,
   "metadata": {},
   "outputs": [
    {
     "data": {
      "text/plain": [
       "[0,\n",
       " 0,\n",
       " 0,\n",
       " 0,\n",
       " 0,\n",
       " 0,\n",
       " 0,\n",
       " 0,\n",
       " 0,\n",
       " 0,\n",
       " 0,\n",
       " 0,\n",
       " 0,\n",
       " 0,\n",
       " 0,\n",
       " 0,\n",
       " 0,\n",
       " 0,\n",
       " 0,\n",
       " 0,\n",
       " 0,\n",
       " 0,\n",
       " 0,\n",
       " 0,\n",
       " 0,\n",
       " 0,\n",
       " 0,\n",
       " 0,\n",
       " 0,\n",
       " 0,\n",
       " 0,\n",
       " 0,\n",
       " 0,\n",
       " 0,\n",
       " 0,\n",
       " 0,\n",
       " 0,\n",
       " 0,\n",
       " 0,\n",
       " 0,\n",
       " 0,\n",
       " 0,\n",
       " 0,\n",
       " 0,\n",
       " 0,\n",
       " 0,\n",
       " 0,\n",
       " 0,\n",
       " 0,\n",
       " 0,\n",
       " 0,\n",
       " 0,\n",
       " 0,\n",
       " 0,\n",
       " 0,\n",
       " 0,\n",
       " 0,\n",
       " 0,\n",
       " 0,\n",
       " 0,\n",
       " 0,\n",
       " 0,\n",
       " 0,\n",
       " 0,\n",
       " 0,\n",
       " 0,\n",
       " 0,\n",
       " 0,\n",
       " 0,\n",
       " 0,\n",
       " 0,\n",
       " 0,\n",
       " 0,\n",
       " 0,\n",
       " 0,\n",
       " 0,\n",
       " 0,\n",
       " 0,\n",
       " 0,\n",
       " 0,\n",
       " 0,\n",
       " 0,\n",
       " 0,\n",
       " 0,\n",
       " 0,\n",
       " 0,\n",
       " 0,\n",
       " 0,\n",
       " 0,\n",
       " 0,\n",
       " 0,\n",
       " 0,\n",
       " 0,\n",
       " 0,\n",
       " 0,\n",
       " 0,\n",
       " 0,\n",
       " 0,\n",
       " 0,\n",
       " 0]"
      ]
     },
     "execution_count": 18,
     "metadata": {},
     "output_type": "execute_result"
    }
   ],
   "source": [
    "from sklearn import datasets, linear_model\n",
    "from sklearn.metrics import mean_squared_error, r2_score\n",
    "\n",
    "difference = [None] * len( opendata)\n",
    "difference[0] = 0\n",
    "\n",
    "i = 1\n",
    "while i < len( opendata):\n",
    "    difference[i] = opendata[ ] - difference[ i - 1]\n",
    "    #opendata[ difference[i-1]]\n",
    "    i += 1\n",
    "    \n",
    "difference"
   ]
  },
  {
   "cell_type": "code",
   "execution_count": 14,
   "metadata": {},
   "outputs": [
    {
     "data": {
      "text/plain": [
       "100"
      ]
     },
     "execution_count": 14,
     "metadata": {},
     "output_type": "execute_result"
    }
   ],
   "source": []
  },
  {
   "cell_type": "code",
   "execution_count": null,
   "metadata": {},
   "outputs": [],
   "source": [
    "\n",
    "opendata_X = ()\n",
    "opendata_X_train = opendata_X[ :-20]\n",
    "opendata_X_test = opendata_X[ -20:]\n",
    "\n",
    "opendata_Y = ()\n",
    "opendata_Y_train = opendata_Y[:-20]\n",
    "opendata_Y_test  = opendata_Y[-20:]\n",
    "\n",
    "regression = linear_model.LinearRegression()\n",
    "\n",
    "regression.fit( opendata_X_train, opendata_Y_train)\n",
    "opendata_Y_pred = regression.predict( opendata_X_test)\n",
    "\n"
   ]
  },
  {
   "cell_type": "code",
   "execution_count": 8,
   "metadata": {},
   "outputs": [
    {
     "ename": "SyntaxError",
     "evalue": "invalid syntax (<ipython-input-8-5d8263e69cc2>, line 10)",
     "output_type": "error",
     "traceback": [
      "\u001b[1;36m  File \u001b[1;32m\"<ipython-input-8-5d8263e69cc2>\"\u001b[1;36m, line \u001b[1;32m10\u001b[0m\n\u001b[1;33m    switch( uniqueIntervals){\u001b[0m\n\u001b[1;37m                            ^\u001b[0m\n\u001b[1;31mSyntaxError\u001b[0m\u001b[1;31m:\u001b[0m invalid syntax\n"
     ]
    }
   ],
   "source": [
    "# Helper Functions\n",
    "def retrieveIntraday():\n",
    "    \n",
    "    print( \"Input the stock symbol\")\n",
    "    symb = input()\n",
    "    symb = symb.toUpperCase()\n",
    "    \n",
    "    print( 'Input time interval ( 1, 5, 15, 30, 60)')\n",
    "    timeinterval = input()\n",
    "    \n",
    "    switch( uniqueIntervals){\n",
    "        case 1: timeinterval\n",
    "    }\n",
    "    \n",
    "    data, meta_data = ts.get_intraday( symbol = symb, interval = timeinterval, outputsize = 'compact')    \n",
    "    \n",
    "def asd():\n",
    "    uniqueIntervals = [ 1, 4, 15, 30, 60]\n",
    "    \n",
    "def tallyingConfusionMatrix( testData, predictedData):\n",
    "    for i in range( len( testData)):\n",
    "        if predictedData == 1:\n",
    "            if testData == 1:\n",
    "                truePositive\n",
    "            else:\n",
    "                falsePositive\n",
    "        elif predictedData == -1:\n",
    "            if testData == -1:\n",
    "                trueNegative += 1\n",
    "            else:            \n",
    "                falseNegative += 1\n",
    "    return truePositive, trueNegative, falsePositive, falseNegative"
   ]
  },
  {
   "cell_type": "code",
   "execution_count": null,
   "metadata": {},
   "outputs": [],
   "source": [
    "retrieveIntraday()"
   ]
  }
 ],
 "metadata": {
  "kernelspec": {
   "display_name": "Python 3",
   "language": "python",
   "name": "python3"
  },
  "language_info": {
   "codemirror_mode": {
    "name": "ipython",
    "version": 3
   },
   "file_extension": ".py",
   "mimetype": "text/x-python",
   "name": "python",
   "nbconvert_exporter": "python",
   "pygments_lexer": "ipython3",
   "version": "3.7.1"
  }
 },
 "nbformat": 4,
 "nbformat_minor": 2
}
